{
 "cells": [
  {
   "cell_type": "code",
   "execution_count": null,
   "metadata": {},
   "outputs": [],
   "source": [
    "import psycopg2\n",
    "import os\n",
    "from dotenv import load_dotenv\n",
    "load_dotenv()\n",
    "\n",
    "with psycopg2.connect(os.environ['postgre_password_taipei']) as conn:\n",
    "    with conn.cursor() as cursor:\n",
    "        #建立資料表\n",
    "        sql = '''\n",
    "            create table if not exists 站點資訊(\n",
    "                站點編號 varchar(10) primary key,\n",
    "                站點名稱 varchar(30) not null,\n",
    "                行政區 varchar(10) not null,\n",
    "                站點地址 varchar(50),\n",
    "                lat numeric(15,11),\n",
    "                lng numeric(15,11)\n",
    "            );\n",
    "\n",
    "            create table if not exists youbike(\n",
    "                日期 timestamp,\n",
    "                編號 varchar(15),\n",
    "                總車輛 integer,\n",
    "                可借 integer,\n",
    "                可還 integer,\n",
    "                活動 boolean,\n",
    "                primary key(日期,編號),\n",
    "                foreign key(編號) references 站點資訊(站點編號)\n",
    "                on delete cascade\n",
    "                on update cascade\n",
    "            );\n",
    "        '''\n",
    "        cursor.execute(sql)\n",
    "print('資料表建立完成')"
   ]
  },
  {
   "cell_type": "code",
   "execution_count": null,
   "metadata": {},
   "outputs": [],
   "source": [
    "import requests\n",
    "from requests import Response\n",
    "\n",
    "url:str = 'https://tcgbusfs.blob.core.windows.net/dotapp/youbike/v2/youbike_immediate.json'\n",
    "r:Response = requests.get(url)\n",
    "if r.status_code == 200:\n",
    "    print('download success')"
   ]
  },
  {
   "cell_type": "code",
   "execution_count": null,
   "metadata": {},
   "outputs": [],
   "source": [
    "import psycopg2\n",
    "import os\n",
    "from dotenv import load_dotenv\n",
    "load_dotenv()\n",
    "youbikeData:list[dict] = r.json()\n",
    "\n",
    "with psycopg2.connect(os.environ['postgre_password_taipei']) as conn:\n",
    "    with conn.cursor() as cursor:\n",
    "        #建立資料表\n",
    "        for item in youbikeData:\n",
    "            print(item)\n",
    "            sql = '''\n",
    "                insert into 站點資訊\n",
    "                values (%s,%s,%s,%s,%s,%s)\n",
    "                on conflict do nothing;\n",
    "            '''\n",
    "            cursor.execute(sql,(item['sno'],item['sna'],item['sarea'],item['ar'],item['lat'],item['lng']))\n",
    "\n",
    "            sql = '''\n",
    "                insert into youbike\n",
    "                values (%s,%s,%s,%s,%s,%s)\n",
    "                on conflict do nothing;\n",
    "                '''\n",
    "            cursor.execute(sql,(item['mday'],item['sno'],item['tot'],item['sbi'],item['bemp'],item[act]))\n",
    "\n",
    "            print('資料表插入完成')\n",
    "            \n",
    "print('資料全部插入完成')"
   ]
  }
 ],
 "metadata": {
  "language_info": {
   "name": "python"
  }
 },
 "nbformat": 4,
 "nbformat_minor": 2
}
