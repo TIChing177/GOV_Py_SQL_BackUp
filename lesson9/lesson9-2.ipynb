{
 "cells": [
  {
   "cell_type": "markdown",
   "metadata": {},
   "source": [
    "## 建立資料表"
   ]
  },
  {
   "cell_type": "code",
   "execution_count": 4,
   "metadata": {},
   "outputs": [
    {
     "name": "stdout",
     "output_type": "stream",
     "text": [
      "資料表建立完成\n"
     ]
    }
   ],
   "source": [
    "import psycopg2\n",
    "import os\n",
    "from dotenv import load_dotenv\n",
    "load_dotenv()\n",
    "\n",
    "with psycopg2.connect(os.environ['postgre_password_taipei']) as conn:\n",
    "    with conn.cursor() as cursor:\n",
    "        #建立資料表\n",
    "        sql = '''\n",
    "            create table if not exists 站點資訊(\n",
    "                站點編號 varchar(10) primary key,\n",
    "                站點名稱 varchar(30) not null,\n",
    "                行政區 varchar(10) not null,\n",
    "                站點地址 varchar(50),\n",
    "                lat numeric(15,11),\n",
    "                lng numeric(15,11)\n",
    "            );\n",
    "\n",
    "            create table if not exists youbike(\n",
    "                日期 timestamp,\n",
    "                編號 varchar(15),\n",
    "                總車輛 integer,\n",
    "                可借 integer,\n",
    "                可還 integer,\n",
    "                活動 boolean,\n",
    "                primary key(日期,編號),\n",
    "                foreign key(編號) references 站點資訊(站點編號)\n",
    "                on delete cascade\n",
    "                on update cascade\n",
    "            );\n",
    "        '''\n",
    "        cursor.execute(sql)\n",
    "print('資料表建立完成')"
   ]
  },
  {
   "cell_type": "markdown",
   "metadata": {},
   "source": [
    "## 插入資料"
   ]
  },
  {
   "cell_type": "code",
   "execution_count": 6,
   "metadata": {},
   "outputs": [
    {
     "name": "stdout",
     "output_type": "stream",
     "text": [
      "資料表插入完成\n"
     ]
    }
   ],
   "source": [
    "with psycopg2.connect(os.environ['postgre_password_taipei']) as conn:\n",
    "    with conn.cursor() as cursor:\n",
    "        #建立資料表\n",
    "        sql = '''\n",
    "            insert into 站點資訊\n",
    "            values (%s,%s,%s,%s,%s,%s)\n",
    "            on conflict do nothing;\n",
    "        '''\n",
    "        cursor.execute(sql,('500101001','YouBike2.0_捷運科技大樓站','大安區','復興南路二段235號前',25.02605,121.5436))\n",
    "\n",
    "        sql = '''\n",
    "            insert into youbike\n",
    "            values (%s,%s,%s,%s,%s,%s)\n",
    "            on conflict do nothing;\n",
    "            '''\n",
    "        cursor.execute(sql,('2024-04-27 09:39:21','500101001',28,1,27,True))\n",
    "\n",
    "print('資料表插入完成')"
   ]
  }
 ],
 "metadata": {
  "kernelspec": {
   "display_name": "Python 3",
   "language": "python",
   "name": "python3"
  },
  "language_info": {
   "codemirror_mode": {
    "name": "ipython",
    "version": 3
   },
   "file_extension": ".py",
   "mimetype": "text/x-python",
   "name": "python",
   "nbconvert_exporter": "python",
   "pygments_lexer": "ipython3",
   "version": "3.10.13"
  }
 },
 "nbformat": 4,
 "nbformat_minor": 2
}
