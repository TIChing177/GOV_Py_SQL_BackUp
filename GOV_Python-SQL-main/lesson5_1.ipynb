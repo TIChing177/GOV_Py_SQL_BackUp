{
 "cells": [
  {
   "cell_type": "code",
   "execution_count": null,
   "metadata": {},
   "outputs": [],
   "source": [
    "student = {\n",
    "    'name':'Elina',\n",
    "    'Chinese':78,\n",
    "    'Math':77\n",
    "    \"English\":89\n",
    "}"
   ]
  }
 ],
 "metadata": {
  "language_info": {
   "name": "python"
  }
 },
 "nbformat": 4,
 "nbformat_minor": 2
}
