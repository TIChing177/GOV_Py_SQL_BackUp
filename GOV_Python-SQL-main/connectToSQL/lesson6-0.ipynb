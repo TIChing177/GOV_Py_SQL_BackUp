{
 "cells": [
  {
   "cell_type": "code",
   "execution_count": 6,
   "metadata": {},
   "outputs": [
    {
     "data": {
      "text/plain": [
       "True"
      ]
     },
     "execution_count": 6,
     "metadata": {},
     "output_type": "execute_result"
    }
   ],
   "source": [
    "#匯入外部套件\n",
    "import psycopg2\n",
    "import os\n",
    "from psycopg2 import connect\n",
    "from dotenv import load_dotenv\n",
    "#初始化環境變數\n",
    "load_dotenv()\n",
    "\n"
   ]
  },
  {
   "cell_type": "code",
   "execution_count": 12,
   "metadata": {},
   "outputs": [],
   "source": [
    "#建立conn實體連接postgreSQL\n",
    "#使用環境變數postgre_password,取得密碼並建立connect實體\n",
    "conn:connect = psycopg2.connect(os.environ['postgre_password'])\n",
    "\n",
    "#建立cursor實體執行SQL\n",
    "cur = conn.cursor()\n",
    "\n",
    "sql = '''\n",
    "create table if not exists pyconn(\n",
    "    id SERIAL,\n",
    "\tname VARCHAR\n",
    ")\n",
    "'''\n",
    "#執行SQL\n",
    "cur.execute(sql)\n",
    "\n",
    "#如果成功確認資料可以更改則正式執行\n",
    "conn.commit()\n",
    "\n",
    "#關閉cursor&連線\n",
    "cur.close()\n",
    "conn.close()"
   ]
  }
 ],
 "metadata": {
  "kernelspec": {
   "display_name": "Python 3",
   "language": "python",
   "name": "python3"
  },
  "language_info": {
   "codemirror_mode": {
    "name": "ipython",
    "version": 3
   },
   "file_extension": ".py",
   "mimetype": "text/x-python",
   "name": "python",
   "nbconvert_exporter": "python",
   "pygments_lexer": "ipython3",
   "version": "3.10.13"
  }
 },
 "nbformat": 4,
 "nbformat_minor": 2
}
