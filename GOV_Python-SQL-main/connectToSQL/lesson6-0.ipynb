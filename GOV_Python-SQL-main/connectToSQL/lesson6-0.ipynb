{
 "cells": [
  {
   "cell_type": "code",
   "execution_count": 6,
   "metadata": {},
   "outputs": [
    {
     "data": {
      "text/plain": [
       "True"
      ]
     },
     "execution_count": 6,
     "metadata": {},
     "output_type": "execute_result"
    }
   ],
   "source": [
    "#匯入外部套件\n",
    "import psycopg2\n",
    "import os\n",
    "from psycopg2 import connect\n",
    "from dotenv import load_dotenv\n",
    "#初始化環境變數\n",
    "load_dotenv()\n",
    "\n"
   ]
  },
  {
   "cell_type": "markdown",
   "metadata": {},
   "source": [
    "## 建立table"
   ]
  },
  {
   "cell_type": "code",
   "execution_count": 17,
   "metadata": {},
   "outputs": [],
   "source": [
    "#建立conn實體連接postgreSQL\n",
    "#使用環境變數postgre_password,取得密碼並建立connect實體\n",
    "conn:connect = psycopg2.connect(os.environ['postgre_password'])\n",
    "\n",
    "#建立cursor實體執行SQL\n",
    "cur = conn.cursor()\n",
    "\n",
    "#這邊放SQL語法\n",
    "sql = '''\n",
    "create table if not exists pyconn(\n",
    "    id serial,\n",
    "    name varchar,\n",
    "    chinese int,\n",
    "    english int,\n",
    "    math int\n",
    ")\n",
    "'''\n",
    "#執行SQL\n",
    "cur.execute(sql)\n",
    "\n",
    "#如果成功確認資料可以更改則正式執行\n",
    "conn.commit()\n",
    "\n",
    "#關閉cursor&連線\n",
    "cur.close()\n",
    "conn.close()"
   ]
  },
  {
   "cell_type": "markdown",
   "metadata": {},
   "source": [
    "## 插入資料"
   ]
  },
  {
   "cell_type": "code",
   "execution_count": 21,
   "metadata": {},
   "outputs": [],
   "source": [
    "#建立conn實體連接postgreSQL\n",
    "#使用環境變數postgre_password,取得密碼並建立connect實體\n",
    "conn:connect = psycopg2.connect(os.environ['postgre_password'])\n",
    "\n",
    "#建立cursor實體執行SQL\n",
    "cur = conn.cursor()\n",
    "\n",
    "#這邊放SQL語法\n",
    "sql = '''\n",
    "insert into pyconn (name, chinese, english, math)\n",
    "values(%s,%s,%s,%s);\n",
    "'''\n",
    "#執行SQL_tuple\n",
    "cur.execute(sql,('Elina', 92, 42, 83))\n",
    "\n",
    "#如果成功確認資料可以更改則正式執行\n",
    "conn.commit()\n",
    "\n",
    "#關閉cursor&連線\n",
    "cur.close()\n",
    "conn.close()"
   ]
  },
  {
   "cell_type": "code",
   "execution_count": 18,
   "metadata": {},
   "outputs": [],
   "source": [
    "#建立conn實體連接postgreSQL\n",
    "#使用環境變數postgre_password,取得密碼並建立connect實體\n",
    "conn:connect = psycopg2.connect(os.environ['postgre_password'])\n",
    "\n",
    "#建立cursor實體執行SQL\n",
    "cur = conn.cursor()\n",
    "\n",
    "#這邊放SQL語法\n",
    "sql = '''\n",
    "insert into pyconn (name, chinese, english, math)\n",
    "values(%(name)s,%(chinese)s,%(english)s,%(math)s);\n",
    "'''\n",
    "#執行SQL_dictionary\n",
    "cur.execute(sql,{'name':'Elena', 'chinese':85, 'english':63, 'math':72})\n",
    "\n",
    "#如果成功確認資料可以更改則正式執行\n",
    "conn.commit()\n",
    "\n",
    "#關閉cursor&連線\n",
    "cur.close()\n",
    "conn.close()"
   ]
  },
  {
   "cell_type": "markdown",
   "metadata": {},
   "source": [
    "## 顯示資料表"
   ]
  },
  {
   "cell_type": "code",
   "execution_count": 15,
   "metadata": {},
   "outputs": [
    {
     "name": "stdout",
     "output_type": "stream",
     "text": [
      "[(1, 'Elina', 56, 76, 86), (2, 'Elena', 85, 63, 72)]\n"
     ]
    }
   ],
   "source": [
    "#建立conn實體連接postgreSQL\n",
    "#使用環境變數postgre_password,取得密碼並建立connect實體\n",
    "conn:connect = psycopg2.connect(os.environ['postgre_password'])\n",
    "\n",
    "#建立cursor實體執行SQL\n",
    "cur = conn.cursor()\n",
    "\n",
    "#這邊放SQL語法\n",
    "sql = '''\n",
    "select * from pyconn\n",
    "'''\n",
    "#執行SQL\n",
    "cur.execute(sql)\n",
    "\n",
    "#取得資料\n",
    "print(cur.fetchall())\n",
    "\n",
    "#如果成功確認資料可以更改則正式執行\n",
    "conn.commit()\n",
    "\n",
    "#關閉cursor&連線\n",
    "cur.close()\n",
    "conn.close()"
   ]
  },
  {
   "cell_type": "markdown",
   "metadata": {},
   "source": [
    "## 刪除表格"
   ]
  },
  {
   "cell_type": "code",
   "execution_count": 16,
   "metadata": {},
   "outputs": [],
   "source": [
    "#建立conn實體連接postgreSQL\n",
    "#使用環境變數postgre_password,取得密碼並建立connect實體\n",
    "conn:connect = psycopg2.connect(os.environ['postgre_password'])\n",
    "\n",
    "#建立cursor實體執行SQL\n",
    "cur = conn.cursor()\n",
    "\n",
    "#這邊放SQL語法\n",
    "sql = '''\n",
    "drop table if exists pyconn\n",
    "'''\n",
    "#執行SQL\n",
    "cur.execute(sql)\n",
    "\n",
    "#如果成功確認資料可以更改則正式執行\n",
    "conn.commit()\n",
    "\n",
    "#關閉cursor&連線\n",
    "cur.close()\n",
    "conn.close()"
   ]
  }
 ],
 "metadata": {
  "kernelspec": {
   "display_name": "Python 3",
   "language": "python",
   "name": "python3"
  },
  "language_info": {
   "codemirror_mode": {
    "name": "ipython",
    "version": 3
   },
   "file_extension": ".py",
   "mimetype": "text/x-python",
   "name": "python",
   "nbconvert_exporter": "python",
   "pygments_lexer": "ipython3",
   "version": "3.10.13"
  }
 },
 "nbformat": 4,
 "nbformat_minor": 2
}
