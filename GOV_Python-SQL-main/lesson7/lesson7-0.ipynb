{
 "cells": [
  {
   "cell_type": "markdown",
   "metadata": {},
   "source": [
    "## 建立電腦環境變數"
   ]
  },
  {
   "cell_type": "code",
   "execution_count": null,
   "metadata": {},
   "outputs": [],
   "source": [
    "#建立電腦環境變數(模擬的)，並載入模擬環境\n",
    "from dotenv import load_dotenv\n",
    "load_dotenv()"
   ]
  },
  {
   "cell_type": "markdown",
   "metadata": {},
   "source": [
    "## 連線資料庫"
   ]
  },
  {
   "cell_type": "code",
   "execution_count": 3,
   "metadata": {},
   "outputs": [],
   "source": [
    "import psycopg2\n",
    "import os\n",
    "conn = psycopg2.connect(os.environ['postgre_password'])\n",
    "conn.commit()\n",
    "conn.close()"
   ]
  },
  {
   "cell_type": "code",
   "execution_count": 4,
   "metadata": {},
   "outputs": [],
   "source": [
    "#使用 with as 語法可以自動 commit(), close() conn\n",
    "with psycopg2.connect(os.environ['postgre_password']) as conn:\n",
    "    cusor = conn.cursor()\n",
    "    sql = '''\n",
    "    CREATE TABLE IF NOT EXISTS 客戶(\n",
    "\t客戶_id SERIAL,\n",
    "\t客戶名稱 VARCHAR(255) NOT NULL,\n",
    "\tPRIMARY KEY(客戶_id)\n",
    "    );\n",
    "'''\n",
    "    cusor.execute(sql)\n",
    "\n",
    "    sql = '''\n",
    "    CREATE TABLE IF NOT EXISTS 聯絡人(\n",
    "\t聯絡人id SERIAL,\n",
    "\t客戶id INT,\n",
    "\t聯絡人姓名 VARCHAR(255) NOT NULL,\n",
    "\t電話 VARCHAR(15),\n",
    "\t郵件 VARCHAR(100),\n",
    "\tPRIMARY KEY(聯絡人id),\n",
    "\tFOREIGN KEY(客戶id) REFERENCES 客戶(客戶_id)\n",
    "    );\n",
    "'''\n",
    "    cusor.execute(sql)\n",
    "    cusor.close()"
   ]
  },
  {
   "cell_type": "code",
   "execution_count": null,
   "metadata": {},
   "outputs": [],
   "source": [
    "with psycopg2.connect(os.environ['postgre_password']) as conn:\n",
    "    cusor = conn.cursor()\n",
    "    sql = '''\n",
    "    INSERT INTO 客戶(客戶名稱)\n",
    "    VALUES('遠傳電信'),('台灣大車隊');\n",
    "'''\n",
    "    cusor.execute(sql)\n",
    "\n",
    "\n",
    "    cusor.execute(sql)\n",
    "    cusor.close()"
   ]
  }
 ],
 "metadata": {
  "kernelspec": {
   "display_name": "Python 3",
   "language": "python",
   "name": "python3"
  },
  "language_info": {
   "codemirror_mode": {
    "name": "ipython",
    "version": 3
   },
   "file_extension": ".py",
   "mimetype": "text/x-python",
   "name": "python",
   "nbconvert_exporter": "python",
   "pygments_lexer": "ipython3",
   "version": "3.10.13"
  }
 },
 "nbformat": 4,
 "nbformat_minor": 2
}
