{
 "cells": [
  {
   "cell_type": "markdown",
   "metadata": {},
   "source": [
    "## 建立電腦環境變數"
   ]
  },
  {
   "cell_type": "code",
   "execution_count": null,
   "metadata": {},
   "outputs": [],
   "source": [
    "#建立電腦環境變數(模擬的)，並載入模擬環境\n",
    "from dotenv import load_dotenv\n",
    "load_dotenv()"
   ]
  },
  {
   "cell_type": "markdown",
   "metadata": {},
   "source": [
    "## 連線資料庫"
   ]
  },
  {
   "cell_type": "code",
   "execution_count": 3,
   "metadata": {},
   "outputs": [],
   "source": [
    "import psycopg2\n",
    "import os\n",
    "conn = psycopg2.connect(os.environ['postgre_password'])\n",
    "conn.commit()\n",
    "conn.close()"
   ]
  },
  {
   "cell_type": "markdown",
   "metadata": {},
   "source": [
    "## 使用 with as 語法可以自動 commit(), close() conn or cursor "
   ]
  },
  {
   "cell_type": "code",
   "execution_count": 6,
   "metadata": {},
   "outputs": [],
   "source": [
    "#手動 commit(), close() conn\n",
    "with psycopg2.connect(os.environ['postgre_password']) as conn:\n",
    "    cusor = conn.cursor()\n",
    "    sql = '''\n",
    "    CREATE TABLE IF NOT EXISTS 客戶(\n",
    "\t客戶_id SERIAL,\n",
    "\t客戶名稱 VARCHAR(255) NOT NULL,\n",
    "\tPRIMARY KEY(客戶_id)\n",
    "    );\n",
    "'''\n",
    "    cusor.execute(sql)\n",
    "\n",
    "    sql = '''\n",
    "    CREATE TABLE IF NOT EXISTS 聯絡人(\n",
    "\t聯絡人id SERIAL,\n",
    "\t客戶id INT,\n",
    "\t聯絡人姓名 VARCHAR(255) NOT NULL,\n",
    "\t電話 VARCHAR(15),\n",
    "\t郵件 VARCHAR(100),\n",
    "\tPRIMARY KEY(聯絡人id),\n",
    "\tFOREIGN KEY(客戶id) REFERENCES 客戶(客戶_id)\n",
    "    );\n",
    "'''\n",
    "    cusor.execute(sql)\n",
    "    cusor.close()"
   ]
  },
  {
   "cell_type": "code",
   "execution_count": 5,
   "metadata": {},
   "outputs": [],
   "source": [
    "#半自動\n",
    "conn = psycopg2.connect(os.environ['postgre_password'])\n",
    "with conn:\n",
    "    with conn.cursor()  as cursor:\n",
    "        sql = '''\n",
    "        INSERT INTO 客戶(客戶名稱)\n",
    "        VALUES('遠傳電信'),('台灣大車隊');\n",
    "        '''\n",
    "        cursor.execute(sql)\n",
    "conn.close()"
   ]
  },
  {
   "cell_type": "code",
   "execution_count": 7,
   "metadata": {},
   "outputs": [],
   "source": [
    "#auto commit() & close()\n",
    "with psycopg2.connect(os.environ['postgre_password']) as conn:\n",
    "    with conn.cursor()  as cursor:\n",
    "        sql = '''\n",
    "        INSERT INTO 聯絡人(客戶id,聯絡人姓名,電話,郵件)\n",
    "        VALUES (1,'John Doe','(408)-111-1234','john.doe@bluebird.dev'),\n",
    "\t    (1,'Jane Doe','(408)-111-1235','jane.doe@bluebird.dev'),\n",
    "\t    (2,'David Wright','(408)-222-1234','david.wright@dolphin.dev');\n",
    "        '''\n",
    "        cursor.execute(sql)"
   ]
  },
  {
   "cell_type": "markdown",
   "metadata": {},
   "source": [
    "## 從DB取資料"
   ]
  },
  {
   "cell_type": "code",
   "execution_count": 11,
   "metadata": {},
   "outputs": [
    {
     "name": "stdout",
     "output_type": "stream",
     "text": [
      "(1, '遠傳電信', 'John Doe', '(408)-111-1234', 'john.doe@bluebird.dev')\n",
      "(2, '遠傳電信', 'Jane Doe', '(408)-111-1235', 'jane.doe@bluebird.dev')\n",
      "(3, '台灣大車隊', 'David Wright', '(408)-222-1234', 'david.wright@dolphin.dev')\n"
     ]
    }
   ],
   "source": [
    "with psycopg2.connect(os.environ['postgre_password']) as conn:\n",
    "    with conn.cursor()  as cursor:\n",
    "        sql = '''\n",
    "        SELECT 聯絡人id,客戶名稱,聯絡人姓名,電話,郵件\n",
    "        FROM 聯絡人 LEFT JOIN 客戶 ON 聯絡人.客戶id = 客戶.客戶_id\n",
    "        '''\n",
    "        cursor.execute(sql)\n",
    "        datas:list = cursor.fetchmany(10)\n",
    "\n",
    "for item in datas:\n",
    "    print(item)\n",
    "        "
   ]
  },
  {
   "cell_type": "code",
   "execution_count": 12,
   "metadata": {},
   "outputs": [
    {
     "name": "stdout",
     "output_type": "stream",
     "text": [
      "(1, '遠傳電信', 'John Doe', '(408)-111-1234', 'john.doe@bluebird.dev')\n",
      "(2, '遠傳電信', 'Jane Doe', '(408)-111-1235', 'jane.doe@bluebird.dev')\n",
      "(3, '台灣大車隊', 'David Wright', '(408)-222-1234', 'david.wright@dolphin.dev')\n"
     ]
    }
   ],
   "source": [
    "#不知道有幾筆資料時\n",
    "with psycopg2.connect(os.environ['postgre_password']) as conn:\n",
    "    with conn.cursor()  as cursor:\n",
    "        sql = '''\n",
    "        SELECT 聯絡人id,客戶名稱,聯絡人姓名,電話,郵件\n",
    "        FROM 聯絡人 LEFT JOIN 客戶 ON 聯絡人.客戶id = 客戶.客戶_id\n",
    "        '''\n",
    "        cursor.execute(sql)\n",
    "        while True:\n",
    "            oneItem = cursor.fetchone()\n",
    "            if oneItem is not None:\n",
    "                print(oneItem)\n",
    "            else:\n",
    "                break"
   ]
  }
 ],
 "metadata": {
  "kernelspec": {
   "display_name": "Python 3",
   "language": "python",
   "name": "python3"
  },
  "language_info": {
   "codemirror_mode": {
    "name": "ipython",
    "version": 3
   },
   "file_extension": ".py",
   "mimetype": "text/x-python",
   "name": "python",
   "nbconvert_exporter": "python",
   "pygments_lexer": "ipython3",
   "version": "3.10.13"
  }
 },
 "nbformat": 4,
 "nbformat_minor": 2
}
