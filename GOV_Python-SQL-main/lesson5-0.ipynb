{
 "cells": [
  {
   "cell_type": "code",
   "execution_count": 3,
   "metadata": {},
   "outputs": [
    {
     "name": "stdout",
     "output_type": "stream",
     "text": [
      "Elina\n"
     ]
    }
   ],
   "source": [
    "student = {\n",
    "    'name':'Elina',\n",
    "    'Chinese':89,\n",
    "    'Math':78,\n",
    "    'English':86\n",
    "}\n",
    "\n",
    "print(student['name'])\n"
   ]
  },
  {
   "cell_type": "code",
   "execution_count": 2,
   "metadata": {},
   "outputs": [
    {
     "name": "stdout",
     "output_type": "stream",
     "text": [
      "11\n",
      "10\n",
      "11\n",
      "12\n"
     ]
    }
   ],
   "source": [
    "values = [10, 11, 12]\n",
    "print(values[1])\n",
    "\n",
    "for value in values:\n",
    "    print(value)"
   ]
  },
  {
   "cell_type": "code",
   "execution_count": 10,
   "metadata": {},
   "outputs": [
    {
     "name": "stdout",
     "output_type": "stream",
     "text": [
      "\"科別\"=name, \"分數\"=Alina\n",
      "\"科別\"=Chinese, \"分數\"=89\n",
      "\"科別\"=Math, \"分數\"=78\n",
      "\"科別\"=English, \"分數\"=86\n",
      "***********\n",
      "\"科別\"=name, \"分數\"=Elina\n",
      "\"科別\"=Chinese, \"分數\"=70\n",
      "\"科別\"=Math, \"分數\"=68\n",
      "\"科別\"=English, \"分數\"=55\n",
      "***********\n",
      "\"科別\"=name, \"分數\"=Ilina\n",
      "\"科別\"=Chinese, \"分數\"=83\n",
      "\"科別\"=Math, \"分數\"=64\n",
      "\"科別\"=English, \"分數\"=96\n",
      "***********\n"
     ]
    }
   ],
   "source": [
    "student:list[dict] =[\n",
    "    {'name':'Alina','Chinese':89,'Math':78,'English':86},\n",
    "    {'name':'Elina','Chinese':70,'Math':68,'English':55},\n",
    "    {'name':'Ilina','Chinese':83,'Math':64,'English':96}]\n",
    "\n",
    "for score in student:\n",
    "    for key, value in score.items():\n",
    "        print(f'\"科別\"={key}, \"分數\"={value}')\n",
    "    print('***********')\n"
   ]
  }
 ],
 "metadata": {
  "kernelspec": {
   "display_name": "Python 3",
   "language": "python",
   "name": "python3"
  },
  "language_info": {
   "codemirror_mode": {
    "name": "ipython",
    "version": 3
   },
   "file_extension": ".py",
   "mimetype": "text/x-python",
   "name": "python",
   "nbconvert_exporter": "python",
   "pygments_lexer": "ipython3",
   "version": "3.10.13"
  }
 },
 "nbformat": 4,
 "nbformat_minor": 2
}
