{
 "cells": [
  {
   "cell_type": "code",
   "execution_count": 2,
   "metadata": {},
   "outputs": [
    {
     "name": "stdout",
     "output_type": "stream",
     "text": [
      "hi\n"
     ]
    }
   ],
   "source": [
    "def sayHi():\n",
    "    print(\"hi\")\n",
    "\n",
    "sayHi()"
   ]
  },
  {
   "cell_type": "code",
   "execution_count": 5,
   "metadata": {},
   "outputs": [
    {
     "name": "stdout",
     "output_type": "stream",
     "text": [
      "hi!Elina\n",
      "hi!Elina\n"
     ]
    }
   ],
   "source": [
    "#引數名稱的呼叫\n",
    "def sayHi(name):\n",
    "    print(f'hi!{name}')\n",
    "\n",
    "sayHi('Elina')\n",
    "sayHi(name='Elina')"
   ]
  },
  {
   "cell_type": "code",
   "execution_count": 14,
   "metadata": {},
   "outputs": [
    {
     "name": "stdout",
     "output_type": "stream",
     "text": [
      "餐前酒:cocktail\n",
      "主餐:steak\n",
      "甜點:puff\n",
      "----------------\n",
      "餐前酒:cocktail\n",
      "主餐:steak\n",
      "甜點:puff\n",
      "----------------\n",
      "餐前酒:red wine\n",
      "主餐:steak\n",
      "甜點:puff\n"
     ]
    }
   ],
   "source": [
    "def menu(wine:str, entree:str, dessert:str):\n",
    "    print(f'餐前酒:{wine}')\n",
    "    print(f'主餐:{entree}')\n",
    "    print(f'甜點:{dessert}')\n",
    "\n",
    "#引數值呼叫依照參數順序\n",
    "menu('cocktail','steak','puff')\n",
    "\n",
    "print('----------------')\n",
    "#引數名稱呼叫依照參數不照順序\n",
    "menu(entree='steak',dessert='puff',wine='cocktail')\n",
    "\n",
    "print('----------------')\n",
    "#混合呼叫\n",
    "#前引數值後引數名稱\n",
    "#用了引數名稱後都只能用引數名稱\n",
    "menu('red wine', entree='steak', dessert='puff')"
   ]
  },
  {
   "cell_type": "code",
   "execution_count": 16,
   "metadata": {},
   "outputs": [
    {
     "data": {
      "text/plain": [
       "{'餐前酒': 'red wine', '主餐': 'steak', '甜點': 'puff'}"
      ]
     },
     "execution_count": 16,
     "metadata": {},
     "output_type": "execute_result"
    }
   ],
   "source": [
    "#function傳出值\n",
    "def menu2(wine:str, entree:str, dessert:str)->dict[str,str]:\n",
    "    return {'餐前酒':wine, '主餐':entree, '甜點':dessert}\n",
    "\n",
    "my_menu = menu2('red wine', entree='steak', dessert='puff')\n",
    "my_menu"
   ]
  },
  {
   "cell_type": "code",
   "execution_count": 19,
   "metadata": {},
   "outputs": [
    {
     "name": "stdout",
     "output_type": "stream",
     "text": [
      "{'餐前酒': 'cocktail', '主餐': 'bread', '飲料': 'black tea'}\n",
      "{'餐前酒': 'cocktail', '主餐': 'chicken', '飲料': 'black tea'}\n",
      "{'餐前酒': 'cocktail', '主餐': 'fish', '飲料': 'juicce'}\n"
     ]
    }
   ],
   "source": [
    "#default value的混合呼叫\n",
    "def menu2(wine:str, entree:str, drinks:str='black tea')->dict[str,str]:\n",
    "    return {'餐前酒':wine, '主餐':entree, '飲料':drinks}\n",
    "\n",
    "print(menu2('cocktail','bread'))\n",
    "print(menu2('cocktail', entree='chicken'))\n",
    "print(menu2('cocktail', entree='fish', drinks='juicce'))"
   ]
  },
  {
   "cell_type": "code",
   "execution_count": 21,
   "metadata": {},
   "outputs": [
    {
     "name": "stdout",
     "output_type": "stream",
     "text": [
      "()\n",
      "('紅', '白', '烈')\n",
      "{'酒1': '紅', '酒2': '白', '酒3': '烈'}\n"
     ]
    }
   ],
   "source": [
    "#沒有限定數量的引數值呼叫\n",
    "def meun3(*args):\n",
    "    print(args)\n",
    "\n",
    "meun3()\n",
    "meun3('紅', '白', '烈')\n",
    "\n",
    "#沒有限定數量的引數名稱呼叫\n",
    "#引數值絕對沒有字串\n",
    "def meun4(**kwargs):\n",
    "    print(kwargs)\n",
    "\n",
    "meun4(酒1=\"紅\",酒2=\"白\",酒3=\"烈\")"
   ]
  }
 ],
 "metadata": {
  "kernelspec": {
   "display_name": "Python 3",
   "language": "python",
   "name": "python3"
  },
  "language_info": {
   "codemirror_mode": {
    "name": "ipython",
    "version": 3
   },
   "file_extension": ".py",
   "mimetype": "text/x-python",
   "name": "python",
   "nbconvert_exporter": "python",
   "pygments_lexer": "ipython3",
   "version": "3.10.13"
  }
 },
 "nbformat": 4,
 "nbformat_minor": 2
}
