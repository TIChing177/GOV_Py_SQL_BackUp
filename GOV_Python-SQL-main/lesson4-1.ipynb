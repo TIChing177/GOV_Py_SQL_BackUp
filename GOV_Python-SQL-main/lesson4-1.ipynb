{
 "cells": [
  {
   "cell_type": "code",
   "execution_count": 10,
   "metadata": {},
   "outputs": [],
   "source": [
    "studentScore = [{'name':'Elina','chinese':87,'math':78,'english':88},\n",
    "                {'name':'Bella','chinese':95,'math':89,'english':98},\n",
    "                {'name':'Cathy','chinese':92,'math':75,'english':89}]"
   ]
  },
  {
   "cell_type": "code",
   "execution_count": 11,
   "metadata": {},
   "outputs": [
    {
     "name": "stdout",
     "output_type": "stream",
     "text": [
      "Elina\n",
      "87\n",
      "78\n",
      "88\n",
      "*********\n",
      "Bella\n",
      "95\n",
      "89\n",
      "98\n",
      "*********\n",
      "Cathy\n",
      "92\n",
      "75\n",
      "89\n",
      "*********\n"
     ]
    }
   ],
   "source": [
    "for student in studentScore:\n",
    "    for key in student:\n",
    "        print(student[key])\n",
    "    print('*********')"
   ]
  }
 ],
 "metadata": {
  "kernelspec": {
   "display_name": "Python 3",
   "language": "python",
   "name": "python3"
  },
  "language_info": {
   "codemirror_mode": {
    "name": "ipython",
    "version": 3
   },
   "file_extension": ".py",
   "mimetype": "text/x-python",
   "name": "python",
   "nbconvert_exporter": "python",
   "pygments_lexer": "ipython3",
   "version": "3.10.13"
  }
 },
 "nbformat": 4,
 "nbformat_minor": 2
}
