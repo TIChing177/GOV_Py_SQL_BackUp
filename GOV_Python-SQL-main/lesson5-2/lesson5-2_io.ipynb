{
 "cells": [
  {
   "cell_type": "code",
   "execution_count": null,
   "metadata": {},
   "outputs": [],
   "source": [
    "#讀取與關閉文字檔案 name.txt\n",
    "#建立file物件\n",
    "file = open('name.txt', encoding='utf-8')\n",
    "type(file)\n",
    "#讀取檔案\n",
    "content:str = file.read()\n",
    "print(content)\n",
    "#關閉檔案連線\n",
    "file.close()\n",
    "print(file.closed)"
   ]
  },
  {
   "cell_type": "code",
   "execution_count": null,
   "metadata": {},
   "outputs": [],
   "source": [
    "#with as 自動關閉\n",
    "with open('name.txt', encoding='utf-8') as file:\n",
    "    content:str = file.read()\n",
    "\n",
    "names:list[str] = content.split(sep='\\n')\n",
    "for name in names:\n",
    "    print(name)"
   ]
  },
  {
   "cell_type": "code",
   "execution_count": null,
   "metadata": {},
   "outputs": [],
   "source": [
    "import random\n",
    "random.randint(1,10)\n",
    "\n",
    "random.choice(names)\n",
    "\n",
    "student_name:list[str] = random.choices(names,k=5)\n",
    "student_name"
   ]
  },
  {
   "cell_type": "code",
   "execution_count": null,
   "metadata": {},
   "outputs": [],
   "source": [
    "student_score:list[dict] = []\n",
    "for name_score in student_name:\n",
    "    score:dict = dict()\n",
    "    score['name'] = name_score\n",
    "    score['Chinese'] = random.randint(10,100)\n",
    "    score['Math'] = random.randint(10,100)\n",
    "    score['English'] = random.randint(10,100)\n",
    "    student_score.append(score)\n",
    "student_score"
   ]
  }
 ],
 "metadata": {
  "kernelspec": {
   "display_name": "Python 3",
   "language": "python",
   "name": "python3"
  },
  "language_info": {
   "codemirror_mode": {
    "name": "ipython",
    "version": 3
   },
   "file_extension": ".py",
   "mimetype": "text/x-python",
   "name": "python",
   "nbconvert_exporter": "python",
   "pygments_lexer": "ipython3",
   "version": "3.10.13"
  }
 },
 "nbformat": 4,
 "nbformat_minor": 2
}
